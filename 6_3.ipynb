{
 "cells": [
  {
   "cell_type": "code",
   "execution_count": 47,
   "metadata": {},
   "outputs": [
    {
     "name": "stdout",
     "output_type": "stream",
     "text": [
      "1000\n",
      "144\n"
     ]
    }
   ],
   "source": [
    "def hansu(k):\n",
    "    count=0\n",
    "    for n in range(k):\n",
    "        if (n+1<100):\n",
    "            count += 1\n",
    "        else:\n",
    "            N=[int(i) for i in str(n+1)]\n",
    "            if(N[0]-N[1] == N[1]-N[2]):\n",
    "                count += 1\n",
    "    print(count)\n",
    "    return\n",
    "           \n",
    "num=int(input())\n",
    "hansu(num)\n"
   ]
  },
  {
   "cell_type": "code",
   "execution_count": null,
   "metadata": {},
   "outputs": [],
   "source": []
  }
 ],
 "metadata": {
  "kernelspec": {
   "display_name": "Python 3",
   "language": "python",
   "name": "python3"
  },
  "language_info": {
   "codemirror_mode": {
    "name": "ipython",
    "version": 3
   },
   "file_extension": ".py",
   "mimetype": "text/x-python",
   "name": "python",
   "nbconvert_exporter": "python",
   "pygments_lexer": "ipython3",
   "version": "3.8.5"
  }
 },
 "nbformat": 4,
 "nbformat_minor": 4
}
